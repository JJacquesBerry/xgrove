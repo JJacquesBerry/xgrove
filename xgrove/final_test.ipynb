{
 "cells": [
  {
   "cell_type": "code",
   "execution_count": 1,
   "metadata": {},
   "outputs": [
    {
     "name": "stdout",
     "output_type": "stream",
     "text": [
      "its upgraded\n"
     ]
    },
    {
     "ename": "AttributeError",
     "evalue": "type object 'grove' has no attribute 'load_pmml_model'",
     "output_type": "error",
     "traceback": [
      "\u001b[1;31m---------------------------------------------------------------------------\u001b[0m",
      "\u001b[1;31mAttributeError\u001b[0m                            Traceback (most recent call last)",
      "Cell \u001b[1;32mIn[1], line 9\u001b[0m\n\u001b[0;32m      6\u001b[0m pmml_file_path \u001b[38;5;241m=\u001b[39m \u001b[38;5;124m'\u001b[39m\u001b[38;5;124mmodels/analyzed_model.pmml\u001b[39m\u001b[38;5;124m'\u001b[39m\n\u001b[0;32m      8\u001b[0m \u001b[38;5;66;03m# Lade das Modell aus der PMML-Datei\u001b[39;00m\n\u001b[1;32m----> 9\u001b[0m loaded_model \u001b[38;5;241m=\u001b[39m \u001b[43mgrove\u001b[49m\u001b[38;5;241;43m.\u001b[39;49m\u001b[43mload_pmml_model\u001b[49m(pmml_file_path)\n\u001b[0;32m     11\u001b[0m \u001b[38;5;28;01mif\u001b[39;00m loaded_model \u001b[38;5;129;01mis\u001b[39;00m \u001b[38;5;129;01mnot\u001b[39;00m \u001b[38;5;28;01mNone\u001b[39;00m:\n\u001b[0;32m     12\u001b[0m     \u001b[38;5;28mprint\u001b[39m(\u001b[38;5;124m\"\u001b[39m\u001b[38;5;124mModell erfolgreich geladen.\u001b[39m\u001b[38;5;124m\"\u001b[39m)\n",
      "\u001b[1;31mAttributeError\u001b[0m: type object 'grove' has no attribute 'load_pmml_model'"
     ]
    }
   ],
   "source": [
    "import os\n",
    "import pandas as pd\n",
    "from xgrove.grove import grove\n",
    "\n",
    "# Setze den Pfad zur PMML-Datei\n",
    "pmml_file_path = 'models/analyzed_model.pmml'\n",
    "\n",
    "# Lade das Modell aus der PMML-Datei\n",
    "loaded_model = grove.load_pmml_model(pmml_file_path)\n",
    "\n",
    "if loaded_model is not None:\n",
    "    print(\"Modell erfolgreich geladen.\")\n",
    "    \n",
    "    # Lade die Boston-Daten\n",
    "    boston_data = pd.read_csv('path/to/boston_dataset.csv')  # Stelle sicher, dass der Pfad korrekt ist\n",
    "    data = boston_data.drop(columns=['cmedv'])\n",
    "    \n",
    "    # Erstelle eine Instanz von grove\n",
    "    grove_instance = grove(model=loaded_model, data=data, surrTarName='cmedv', ntrees=[4, 8, 16, 32, 64, 128])\n",
    "    \n",
    "    # Berechne Grove und drucke die Ergebnisse\n",
    "    grove_instance.calculateGrove()\n",
    "    print(grove_instance.get_result())\n",
    "    \n",
    "    # Plotte die Ergebnisse\n",
    "    grove_instance.plot()\n",
    "else:\n",
    "    print(\"Das Modell konnte nicht geladen werden.\")\n"
   ]
  }
 ],
 "metadata": {
  "kernelspec": {
   "display_name": "Python 3",
   "language": "python",
   "name": "python3"
  },
  "language_info": {
   "codemirror_mode": {
    "name": "ipython",
    "version": 3
   },
   "file_extension": ".py",
   "mimetype": "text/x-python",
   "name": "python",
   "nbconvert_exporter": "python",
   "pygments_lexer": "ipython3",
   "version": "3.12.7"
  }
 },
 "nbformat": 4,
 "nbformat_minor": 2
}
